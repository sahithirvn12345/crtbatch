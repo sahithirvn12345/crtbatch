{
 "cells": [
  {
   "cell_type": "markdown",
   "metadata": {},
   "source": [
    "# every variable in python is acts like object and object has 3 characteristics \n",
    "## identity\n",
    "## type\n",
    "## value"
   ]
  },
  {
   "cell_type": "code",
   "execution_count": 1,
   "metadata": {},
   "outputs": [
    {
     "name": "stdout",
     "output_type": "stream",
     "text": [
      "1773521200\n",
      "<class 'int'>\n",
      "10\n"
     ]
    }
   ],
   "source": [
    "a=10\n",
    "print(id(a))\n",
    "print(type(a))\n",
    "print(a)"
   ]
  },
  {
   "cell_type": "code",
   "execution_count": 2,
   "metadata": {},
   "outputs": [
    {
     "data": {
      "text/plain": [
       "10"
      ]
     },
     "execution_count": 2,
     "metadata": {},
     "output_type": "execute_result"
    }
   ],
   "source": [
    "b=10\n",
    "b"
   ]
  },
  {
   "cell_type": "code",
   "execution_count": 3,
   "metadata": {},
   "outputs": [
    {
     "name": "stdout",
     "output_type": "stream",
     "text": [
      "1773521200\n"
     ]
    }
   ],
   "source": [
    "print(id(b))"
   ]
  },
  {
   "cell_type": "code",
   "execution_count": 4,
   "metadata": {},
   "outputs": [
    {
     "name": "stdout",
     "output_type": "stream",
     "text": [
      "10 24.5 gitam (2+4j)\n",
      "<class 'int'> <class 'float'> <class 'str'> <class 'complex'>\n"
     ]
    }
   ],
   "source": [
    "a=10\n",
    "b=24.5\n",
    "c=\"gitam\"\n",
    "d=2+4j\n",
    "print(a,b,c,d)\n",
    "print(type(a),type(b),type(c),type(d))"
   ]
  },
  {
   "cell_type": "markdown",
   "metadata": {},
   "source": [
    "# Number Types\n",
    "## integer\n",
    "## float\n",
    "## complex\n",
    "## Boolean\n",
    "## all numbers are immutable,values are not \n",
    "## modified,if they modified new references is \n",
    "## pointing to modified value"
   ]
  },
  {
   "cell_type": "code",
   "execution_count": 5,
   "metadata": {},
   "outputs": [
    {
     "name": "stdout",
     "output_type": "stream",
     "text": [
      "1773521200\n",
      "1773522640\n"
     ]
    }
   ],
   "source": [
    "a=10\n",
    "print(id(a))\n",
    "a=100\n",
    "print(id(a))"
   ]
  },
  {
   "cell_type": "code",
   "execution_count": 6,
   "metadata": {},
   "outputs": [
    {
     "data": {
      "text/plain": [
       "100"
      ]
     },
     "execution_count": 6,
     "metadata": {},
     "output_type": "execute_result"
    }
   ],
   "source": [
    "a"
   ]
  },
  {
   "cell_type": "code",
   "execution_count": 7,
   "metadata": {},
   "outputs": [
    {
     "name": "stdout",
     "output_type": "stream",
     "text": [
      "5142784\n"
     ]
    }
   ],
   "source": [
    "a='t'\n",
    "print(id(a))"
   ]
  },
  {
   "cell_type": "code",
   "execution_count": 9,
   "metadata": {},
   "outputs": [
    {
     "name": "stdout",
     "output_type": "stream",
     "text": [
      "(2+5j)\n",
      "2.0\n",
      "5.0\n",
      "(2-5j)\n",
      "(3+4j)\n"
     ]
    }
   ],
   "source": [
    "a=2+5j\n",
    "print(a)\n",
    "print(a.real)\n",
    "print(a.imag)\n",
    "print(a.conjugate())\n",
    "c=complex(3,4)\n",
    "print(c)"
   ]
  },
  {
   "cell_type": "code",
   "execution_count": 10,
   "metadata": {},
   "outputs": [
    {
     "name": "stdout",
     "output_type": "stream",
     "text": [
      "(7+12j)\n",
      "(-3-2j)\n",
      "(-25+39j)\n"
     ]
    }
   ],
   "source": [
    "c=2+5j\n",
    "d=5+7j\n",
    "print(c+d)\n",
    "print(c-d)\n",
    "print(c*d)"
   ]
  },
  {
   "cell_type": "code",
   "execution_count": 11,
   "metadata": {},
   "outputs": [
    {
     "name": "stdout",
     "output_type": "stream",
     "text": [
      "gitam\n",
      "gitam\n",
      "<class 'str'> <class 'str'>\n",
      "5\n"
     ]
    }
   ],
   "source": [
    "str=\"gitam\"\n",
    "str1='gitam'\n",
    "print(str)\n",
    "print(str1)\n",
    "print(type(str),type(str1))\n",
    "print(len(str))"
   ]
  },
  {
   "cell_type": "markdown",
   "metadata": {},
   "source": [
    "# type converstions\n",
    "## int()\n",
    "## float()\n",
    "## complex()\n",
    "## list()\n",
    "## tuple()\n",
    "## set()\n",
    "## dict()\n",
    "## bool()"
   ]
  },
  {
   "cell_type": "markdown",
   "metadata": {},
   "source": [
    "# input()\n",
    "## it is used to give the input to the program\n",
    "## and its type is string and by\n",
    "## using type convertions to convert it into\n",
    "## other types"
   ]
  },
  {
   "cell_type": "code",
   "execution_count": 13,
   "metadata": {},
   "outputs": [
    {
     "name": "stdout",
     "output_type": "stream",
     "text": [
      "enter the number16\n",
      "<class 'str'>\n",
      "<class 'int'>\n",
      "the number is 16\n"
     ]
    }
   ],
   "source": [
    "a=input(\"enter the number\")\n",
    "print(type(a))\n",
    "b=int(a)\n",
    "print(type(b))\n",
    "print(\"the number is\",b)"
   ]
  },
  {
   "cell_type": "code",
   "execution_count": 14,
   "metadata": {},
   "outputs": [
    {
     "data": {
      "text/plain": [
       "'\\ndocument string\\n'"
      ]
     },
     "execution_count": 14,
     "metadata": {},
     "output_type": "execute_result"
    }
   ],
   "source": [
    "# comment in the python\n",
    "'''\n",
    "document string\n",
    "'''"
   ]
  },
  {
   "cell_type": "code",
   "execution_count": 15,
   "metadata": {},
   "outputs": [
    {
     "name": "stdout",
     "output_type": "stream",
     "text": [
      "16\n"
     ]
    }
   ],
   "source": [
    "#a=10\n",
    "b=100\n",
    "print(a)"
   ]
  },
  {
   "cell_type": "code",
   "execution_count": 17,
   "metadata": {},
   "outputs": [
    {
     "name": "stdout",
     "output_type": "stream",
     "text": [
      "16\n"
     ]
    }
   ],
   "source": [
    "#a=10\n",
    "'''\n",
    "print(\"it give the description about the resource of python\")\n",
    "'''\n",
    "b=100\n",
    "print(a)"
   ]
  },
  {
   "cell_type": "code",
   "execution_count": 18,
   "metadata": {},
   "outputs": [
    {
     "name": "stdout",
     "output_type": "stream",
     "text": [
      "<class 'str'>\n",
      "4\n",
      "<class 'int'>\n"
     ]
    }
   ],
   "source": [
    "b=\"1947\"\n",
    "print(type(b))\n",
    "print(len(b))\n",
    "c=int(b)\n",
    "print(type(c))\n",
    "#print(len(c))"
   ]
  },
  {
   "cell_type": "code",
   "execution_count": 19,
   "metadata": {},
   "outputs": [
    {
     "name": "stdout",
     "output_type": "stream",
     "text": [
      "enter the first number12\n",
      "enter the second number16\n",
      "the sum is 28\n"
     ]
    }
   ],
   "source": [
    "a=int(input(\"enter the first number\"))\n",
    "b=int(input(\"enter the second number\"))\n",
    "c=a+b\n",
    "print(\"the sum is\",c)"
   ]
  },
  {
   "cell_type": "markdown",
   "metadata": {},
   "source": [
    "# types of operators:\n",
    "## 1) arthmetic operators\n",
    "  ### +,-,',//(decimal quetient),//(integer quetient,\",%\n",
    "  ### //(floor division)\n",
    "  ### % remainder\n",
    "  ### \"(acts like pow(),where arguments are integers"
   ]
  },
  {
   "cell_type": "code",
   "execution_count": 21,
   "metadata": {},
   "outputs": [
    {
     "name": "stdout",
     "output_type": "stream",
     "text": [
      "18\n",
      "6\n",
      "72\n",
      "2.0\n",
      "2\n",
      "0\n",
      "2985984\n"
     ]
    }
   ],
   "source": [
    "a=12\n",
    "b=6\n",
    "print(a+b)\n",
    "print(a-b)\n",
    "print(a*b)\n",
    "print(a/b)# division with decimal\n",
    "print(a//b)#floor division \n",
    "print(a%b)#remainder\n",
    "print(a**b)#pow(a,b) and it should be integer values"
   ]
  },
  {
   "cell_type": "markdown",
   "metadata": {},
   "source": [
    "## Relational operators:\n",
    "### <,<=,>,>=,==,!=\n"
   ]
  },
  {
   "cell_type": "code",
   "execution_count": 22,
   "metadata": {},
   "outputs": [
    {
     "name": "stdout",
     "output_type": "stream",
     "text": [
      "True\n",
      "False\n",
      "True\n",
      "0\n",
      "1\n"
     ]
    }
   ],
   "source": [
    "x=10\n",
    "y=14\n",
    "print(x<34)\n",
    "print(x==y)\n",
    "print(x!=y)\n",
    "print(int(x>y))\n",
    "print(int(y>x))"
   ]
  },
  {
   "cell_type": "markdown",
   "metadata": {},
   "source": [
    "# Logical operators:\n",
    "## and or not"
   ]
  },
  {
   "cell_type": "code",
   "execution_count": 24,
   "metadata": {},
   "outputs": [
    {
     "name": "stdout",
     "output_type": "stream",
     "text": [
      "True\n",
      "True\n",
      "False\n"
     ]
    }
   ],
   "source": [
    "x=20\n",
    "print(x>=20 and x<=30)\n",
    "print(x>=30 or x<=20)\n",
    "print(not(x))\n"
   ]
  },
  {
   "cell_type": "markdown",
   "metadata": {},
   "source": [
    "# identity operators:\n",
    "## is ,isnot"
   ]
  },
  {
   "cell_type": "code",
   "execution_count": 25,
   "metadata": {},
   "outputs": [
    {
     "name": "stdout",
     "output_type": "stream",
     "text": [
      "False\n",
      "True\n"
     ]
    }
   ],
   "source": [
    "a=15\n",
    "b=20\n",
    "print(a is b)\n",
    "print(a is not b)"
   ]
  },
  {
   "cell_type": "markdown",
   "metadata": {},
   "source": [
    "# member operator\n",
    "## in not in"
   ]
  },
  {
   "cell_type": "code",
   "execution_count": 26,
   "metadata": {},
   "outputs": [
    {
     "name": "stdout",
     "output_type": "stream",
     "text": [
      "True\n",
      "True\n"
     ]
    }
   ],
   "source": [
    "str=\"gitam\"\n",
    "print('i' in str1)\n",
    "print('z'not in str1)"
   ]
  },
  {
   "cell_type": "markdown",
   "metadata": {},
   "source": [
    "# Bitwise operator (works with 0 and 1)\n",
    "## &,|,<<,>>,~\n",
    "## << leftshift\n",
    "## >> rightshift\n",
    "## ~(1's complement)"
   ]
  },
  {
   "cell_type": "markdown",
   "metadata": {},
   "source": [
    "# special ops:\n",
    "## + and , are used for concatenation\n",
    "## * repetation operator\n",
    "## [start:stop:step] slice operator\n",
    "## indentation:\n",
    "## it represents block or {} in c language"
   ]
  },
  {
   "cell_type": "code",
   "execution_count": 27,
   "metadata": {},
   "outputs": [
    {
     "name": "stdout",
     "output_type": "stream",
     "text": [
      "the value of a is 100\n",
      "[1, 2, 3, 4, 5, 6]\n",
      "gitamgitamgitam\n",
      "it\n",
      "[0, 1, 2, 3, 4, 5, 6, 7, 8, 9]\n"
     ]
    }
   ],
   "source": [
    "a=100\n",
    "print(\"the value of a is\",a)\n",
    "c=[1,2,3]\n",
    "d=[4,5,6]\n",
    "print(c+d)\n",
    "d=\"gitam\"\n",
    "print(d*3)\n",
    "print(d[1:3])\n",
    "print(list(range(10)))"
   ]
  },
  {
   "cell_type": "markdown",
   "metadata": {},
   "source": [
    "## control statements (it is simple if stmt)\n",
    "## 1)if statement\n",
    " ### if(conditions):\n",
    "         statements1\n",
    "         statements2\n",
    "## 2)if else statement\n",
    " ### if(conditions):\n",
    "         statements1\n",
    "         statements2\n",
    "  ### else:\n",
    "          statements3\n",
    "          statements4\n",
    " ## 3)elseif stmt\n",
    "  ### if(conditions):\n",
    "          statements1\n",
    "          statements2\n",
    "  ### elif(condition):\n",
    "          statements3\n",
    "          statements4\n",
    "  ### else:\n",
    "          statements5\n",
    "          statements6"
   ]
  },
  {
   "cell_type": "code",
   "execution_count": 1,
   "metadata": {},
   "outputs": [
    {
     "name": "stdout",
     "output_type": "stream",
     "text": [
      "enter the number20\n",
      "it is +ve no\n"
     ]
    }
   ],
   "source": [
    "a=int(input(\"enter the number\"))\n",
    "if(a>0):\n",
    "    print(\"it is +ve no\")\n",
    "if(a<0):\n",
    "    print(\"it is -ve no\")\n",
    "if(a==0):\n",
    "    print(\"it is zero\")"
   ]
  },
  {
   "cell_type": "code",
   "execution_count": 2,
   "metadata": {},
   "outputs": [
    {
     "name": "stdout",
     "output_type": "stream",
     "text": [
      "it is +ve no\n"
     ]
    }
   ],
   "source": [
    "a=10\n",
    "if(a>0):\n",
    "    print(\"it is +ve no\")\n",
    "if(a<0):\n",
    "    print(\"it is -ve no\")\n",
    "if(a==0):\n",
    "    print(\"it is zero\")"
   ]
  },
  {
   "cell_type": "code",
   "execution_count": 3,
   "metadata": {},
   "outputs": [
    {
     "name": "stdout",
     "output_type": "stream",
     "text": [
      "enter the number14\n",
      "14 is even number\n"
     ]
    }
   ],
   "source": [
    "n=int(input(\"enter the number\"))\n",
    "if(n%2==0):\n",
    "    print(n,\"is even number\")\n",
    "else:\n",
    "    print(n,\"is odd number\")"
   ]
  },
  {
   "cell_type": "code",
   "execution_count": 9,
   "metadata": {
    "scrolled": true
   },
   "outputs": [
    {
     "name": "stdout",
     "output_type": "stream",
     "text": [
      "enter the year2019\n",
      "2019 is not leap year\n"
     ]
    }
   ],
   "source": [
    "yr=int(input(\"enter the year\"))\n",
    "if(yr%100!=0) and (yr%4==0) or (yr%400==0):\n",
    "    print(yr,\"is leap year\")\n",
    "else:\n",
    "    print(yr,\"is not leap year\")"
   ]
  },
  {
   "cell_type": "code",
   "execution_count": 10,
   "metadata": {},
   "outputs": [
    {
     "name": "stdout",
     "output_type": "stream",
     "text": [
      "10 20 100\n"
     ]
    }
   ],
   "source": [
    "a=10\n",
    "b=20\n",
    "c=100\n",
    "print(a,b,c)"
   ]
  },
  {
   "cell_type": "code",
   "execution_count": 11,
   "metadata": {},
   "outputs": [
    {
     "name": "stdout",
     "output_type": "stream",
     "text": [
      "100 is big\n"
     ]
    }
   ],
   "source": [
    "a,b,c=10,20,100\n",
    "if(a>b and a>c):\n",
    "    print(a,\"is big\")\n",
    "elif(b>c):\n",
    "    print(b,\"is big\")\n",
    "else:\n",
    "    print(c,\"is big\")"
   ]
  },
  {
   "cell_type": "code",
   "execution_count": 12,
   "metadata": {},
   "outputs": [
    {
     "name": "stdout",
     "output_type": "stream",
     "text": [
      "100 100 100\n"
     ]
    }
   ],
   "source": [
    "a=b=c=100\n",
    "print(a,b,c)"
   ]
  },
  {
   "cell_type": "code",
   "execution_count": 13,
   "metadata": {},
   "outputs": [
    {
     "name": "stdout",
     "output_type": "stream",
     "text": [
      "before swaping 10 20\n",
      "after swaping 20 10\n"
     ]
    }
   ],
   "source": [
    "a=10\n",
    "b=20\n",
    "print(\"before swaping\",a,b)\n",
    "a,b=b,a\n",
    "print(\"after swaping\",a,b)"
   ]
  },
  {
   "cell_type": "code",
   "execution_count": 14,
   "metadata": {},
   "outputs": [
    {
     "name": "stdout",
     "output_type": "stream",
     "text": [
      "enter the choice4\n",
      "4.0\n"
     ]
    }
   ],
   "source": [
    "a=100\n",
    "b=25\n",
    "ch=int(input(\"enter the choice\"))\n",
    "if(ch==1):\n",
    "    print(a+b)\n",
    "elif(ch==2):\n",
    "    print(a-b)\n",
    "elif(ch==3):\n",
    "    print(a*b)\n",
    "elif(ch==4):\n",
    "    print(a/b)\n",
    "else:\n",
    "    print(\"invalid choice\")"
   ]
  },
  {
   "cell_type": "code",
   "execution_count": 15,
   "metadata": {},
   "outputs": [
    {
     "name": "stdout",
     "output_type": "stream",
     "text": [
      "enter the characters\n",
      "it is consonants\n"
     ]
    }
   ],
   "source": [
    "ch=input(\"enter the character\")\n",
    "if(ch=='a' or ch=='e' or ch=='i' or ch=='o' or ch=='u'):\n",
    "    print(\"it is vowels\")\n",
    "elif(ch=='A' or ch=='E' or ch=='I' or ch=='O' or ch=='U'):\n",
    "    print(\"it is vowels\")\n",
    "else:\n",
    "    print(\"it is consonants\")"
   ]
  },
  {
   "cell_type": "code",
   "execution_count": null,
   "metadata": {},
   "outputs": [],
   "source": []
  }
 ],
 "metadata": {
  "kernelspec": {
   "display_name": "Python 3",
   "language": "python",
   "name": "python3"
  },
  "language_info": {
   "codemirror_mode": {
    "name": "ipython",
    "version": 3
   },
   "file_extension": ".py",
   "mimetype": "text/x-python",
   "name": "python",
   "nbconvert_exporter": "python",
   "pygments_lexer": "ipython3",
   "version": "3.7.3"
  }
 },
 "nbformat": 4,
 "nbformat_minor": 2
}
